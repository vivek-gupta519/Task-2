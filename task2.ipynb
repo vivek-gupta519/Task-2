{
  "nbformat": 4,
  "nbformat_minor": 0,
  "metadata": {
    "colab": {
      "provenance": []
    },
    "kernelspec": {
      "name": "python3",
      "display_name": "Python 3"
    },
    "language_info": {
      "name": "python"
    }
  },
  "cells": [
    {
      "cell_type": "code",
      "execution_count": 1,
      "metadata": {
        "colab": {
          "base_uri": "https://localhost:8080/"
        },
        "id": "5hfxbz4VDBAS",
        "outputId": "215d5e6d-c931-4be9-a451-da36dfd01b47"
      },
      "outputs": [
        {
          "output_type": "stream",
          "name": "stdout",
          "text": [
            "Requirement already satisfied: pandas in /usr/local/lib/python3.11/dist-packages (2.2.2)\n",
            "Requirement already satisfied: matplotlib in /usr/local/lib/python3.11/dist-packages (3.10.0)\n",
            "Requirement already satisfied: seaborn in /usr/local/lib/python3.11/dist-packages (0.13.2)\n",
            "Requirement already satisfied: numpy>=1.23.2 in /usr/local/lib/python3.11/dist-packages (from pandas) (2.0.2)\n",
            "Requirement already satisfied: python-dateutil>=2.8.2 in /usr/local/lib/python3.11/dist-packages (from pandas) (2.9.0.post0)\n",
            "Requirement already satisfied: pytz>=2020.1 in /usr/local/lib/python3.11/dist-packages (from pandas) (2025.2)\n",
            "Requirement already satisfied: tzdata>=2022.7 in /usr/local/lib/python3.11/dist-packages (from pandas) (2025.2)\n",
            "Requirement already satisfied: contourpy>=1.0.1 in /usr/local/lib/python3.11/dist-packages (from matplotlib) (1.3.2)\n",
            "Requirement already satisfied: cycler>=0.10 in /usr/local/lib/python3.11/dist-packages (from matplotlib) (0.12.1)\n",
            "Requirement already satisfied: fonttools>=4.22.0 in /usr/local/lib/python3.11/dist-packages (from matplotlib) (4.59.0)\n",
            "Requirement already satisfied: kiwisolver>=1.3.1 in /usr/local/lib/python3.11/dist-packages (from matplotlib) (1.4.8)\n",
            "Requirement already satisfied: packaging>=20.0 in /usr/local/lib/python3.11/dist-packages (from matplotlib) (25.0)\n",
            "Requirement already satisfied: pillow>=8 in /usr/local/lib/python3.11/dist-packages (from matplotlib) (11.3.0)\n",
            "Requirement already satisfied: pyparsing>=2.3.1 in /usr/local/lib/python3.11/dist-packages (from matplotlib) (3.2.3)\n",
            "Requirement already satisfied: six>=1.5 in /usr/local/lib/python3.11/dist-packages (from python-dateutil>=2.8.2->pandas) (1.17.0)\n"
          ]
        }
      ],
      "source": [
        "pip install pandas matplotlib seaborn"
      ]
    },
    {
      "cell_type": "code",
      "source": [
        "import pandas as pd\n",
        "import matplotlib.pyplot as plt\n",
        "import seaborn as sns\n",
        "import os\n",
        "\n",
        "# Set styles\n",
        "sns.set(style=\"whitegrid\")\n",
        "\n",
        "# Create output folder for visualizations\n",
        "output_dir = \"superstore_charts\"\n",
        "os.makedirs(output_dir, exist_ok=True)\n",
        "\n",
        "# Load data\n",
        "df = pd.read_csv(\"superstore.csv\", encoding='ISO-8859-1')\n",
        "\n",
        "# Preprocessing\n",
        "df['Order Date'] = pd.to_datetime(df['Order Date'])\n",
        "df['Year'] = df['Order Date'].dt.year\n",
        "df['Month'] = df['Order Date'].dt.to_period(\"M\")\n",
        "\n",
        "# 1. Sales Over Time\n",
        "plt.figure(figsize=(12, 6))\n",
        "monthly_sales = df.groupby('Month')['Sales'].sum()\n",
        "monthly_sales.plot()\n",
        "plt.title(\"Monthly Sales Trend\")\n",
        "plt.ylabel(\"Sales ($)\")\n",
        "plt.xlabel(\"Month\")\n",
        "plt.xticks(rotation=45)\n",
        "plt.tight_layout()\n",
        "plt.savefig(f\"{output_dir}/01_monthly_sales_trend.png\")\n",
        "plt.close()\n",
        "\n",
        "# 2. Sales by Category\n",
        "plt.figure(figsize=(8, 6))\n",
        "category_sales = df.groupby('Category')['Sales'].sum().sort_values()\n",
        "sns.barplot(x=category_sales.values, y=category_sales.index)\n",
        "plt.title(\"Total Sales by Category\")\n",
        "plt.xlabel(\"Sales ($)\")\n",
        "plt.tight_layout()\n",
        "plt.savefig(f\"{output_dir}/02_sales_by_category.png\")\n",
        "plt.close()\n",
        "\n",
        "# 3. Profit by Region\n",
        "plt.figure(figsize=(8, 6))\n",
        "region_profit = df.groupby('Region')['Profit'].sum().sort_values()\n",
        "sns.barplot(x=region_profit.values, y=region_profit.index, palette=\"coolwarm\")\n",
        "plt.title(\"Profit by Region\")\n",
        "plt.xlabel(\"Profit ($)\")\n",
        "plt.tight_layout()\n",
        "plt.savefig(f\"{output_dir}/03_profit_by_region.png\")\n",
        "plt.close()\n",
        "\n",
        "# 4. Top 10 Products by Sales\n",
        "plt.figure(figsize=(10, 6))\n",
        "top_products = df.groupby('Product Name')['Sales'].sum().nlargest(10)\n",
        "sns.barplot(x=top_products.values, y=top_products.index)\n",
        "plt.title(\"Top 10 Products by Sales\")\n",
        "plt.xlabel(\"Sales ($)\")\n",
        "plt.tight_layout()\n",
        "plt.savefig(f\"{output_dir}/04_top10_products.png\")\n",
        "plt.close()\n",
        "\n",
        "# 5. Discount vs Profit (Scatter Plot)\n",
        "plt.figure(figsize=(8, 6))\n",
        "sns.scatterplot(data=df, x='Discount', y='Profit', alpha=0.5)\n",
        "plt.title(\"Discount vs Profit\")\n",
        "plt.xlabel(\"Discount\")\n",
        "plt.ylabel(\"Profit\")\n",
        "plt.tight_layout()\n",
        "plt.savefig(f\"{output_dir}/05_discount_vs_profit.png\")\n",
        "plt.close()\n",
        "\n",
        "# 6. Sales by Segment and Region (Heatmap)\n",
        "pivot_table = pd.pivot_table(df, values='Sales', index='Region', columns='Segment', aggfunc='sum')\n",
        "plt.figure(figsize=(8, 6))\n",
        "sns.heatmap(pivot_table, annot=True, fmt=\".0f\", cmap=\"YlGnBu\")\n",
        "plt.title(\"Sales by Segment and Region\")\n",
        "plt.tight_layout()\n",
        "plt.savefig(f\"{output_dir}/06_segment_region_heatmap.png\")\n",
        "plt.close()\n",
        "\n",
        "print(f\"✅ All charts saved in the folder: {output_dir}\")\n"
      ],
      "metadata": {
        "colab": {
          "base_uri": "https://localhost:8080/"
        },
        "id": "u3KPbzOsDYNP",
        "outputId": "4dde7590-71de-4d30-b386-4a3c0c49f881"
      },
      "execution_count": 3,
      "outputs": [
        {
          "output_type": "stream",
          "name": "stderr",
          "text": [
            "/tmp/ipython-input-3130349468.py:46: FutureWarning: \n",
            "\n",
            "Passing `palette` without assigning `hue` is deprecated and will be removed in v0.14.0. Assign the `y` variable to `hue` and set `legend=False` for the same effect.\n",
            "\n",
            "  sns.barplot(x=region_profit.values, y=region_profit.index, palette=\"coolwarm\")\n"
          ]
        },
        {
          "output_type": "stream",
          "name": "stdout",
          "text": [
            "✅ All charts saved in the folder: superstore_charts\n"
          ]
        }
      ]
    }
  ]
}